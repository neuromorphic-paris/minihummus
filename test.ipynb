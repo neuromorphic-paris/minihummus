{
 "cells": [
  {
   "cell_type": "code",
   "execution_count": null,
   "metadata": {},
   "outputs": [],
   "source": [
    "import minihummus\n",
    "import numpy as np"
   ]
  },
  {
   "cell_type": "markdown",
   "metadata": {},
   "source": [
    "## Parameters"
   ]
  },
  {
   "cell_type": "code",
   "execution_count": null,
   "metadata": {},
   "outputs": [],
   "source": [
    "input_neurons = 2 # number of input neurons\n",
    "output_neurons = 2 # number of output neurons\n",
    "tau_m = 20 # membrane time constant (μs)\n",
    "tau_s = 10 # synaptic time constant (μs)\n",
    "refractory_period = 3 # refractory period (μs)\n",
    "V_th = -50 # voltage threshold (mV)\n",
    "V_rest = -70 # resting membrane potential (mV)\n",
    "I_ext = 200 # external current (pA)"
   ]
  },
  {
   "cell_type": "markdown",
   "metadata": {},
   "source": [
    "## Building the network"
   ]
  },
  {
   "cell_type": "code",
   "execution_count": null,
   "metadata": {},
   "outputs": [],
   "source": [
    "# initialising the network\n",
    "net = minihummus.Network()\n",
    "\n",
    "# parametrising our layer of LIF neurons\n",
    "net.make_layer(input_neurons, \n",
    "               output_neurons, \n",
    "               tau_m,\n",
    "               tau_s,\n",
    "               refractory_period, \n",
    "               V_th, \n",
    "               V_rest,\n",
    "               I_ext)\n",
    "\n",
    "# creating test data\n",
    "data = np.array([[1,0],[2,0],[5,1]])\n",
    "\n",
    "# injecting spikes into the network\n",
    "net.inject_spikes(data)\n",
    "\n",
    "# running the network\n",
    "net.run(10, 1)"
   ]
  }
 ],
 "metadata": {
  "kernelspec": {
   "display_name": "Python 3",
   "language": "python",
   "name": "python3"
  },
  "language_info": {
   "codemirror_mode": {
    "name": "ipython",
    "version": 3
   },
   "file_extension": ".py",
   "mimetype": "text/x-python",
   "name": "python",
   "nbconvert_exporter": "python",
   "pygments_lexer": "ipython3",
   "version": "3.7.6"
  }
 },
 "nbformat": 4,
 "nbformat_minor": 4
}
